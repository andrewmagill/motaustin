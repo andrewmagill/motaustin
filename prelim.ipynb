{
 "cells": [
  {
   "cell_type": "code",
   "execution_count": 54,
   "metadata": {},
   "outputs": [],
   "source": [
    "from configparser import ConfigParser\n",
    "import os\n",
    "from pprint import pprint"
   ]
  },
  {
   "cell_type": "code",
   "execution_count": 55,
   "metadata": {},
   "outputs": [],
   "source": [
    "# constants\n",
    "SEQUENCE_PATH = \"MOT20/train/MOT20-01/\"\n",
    "CONFIG_FILENAME = \"seqinfo.ini\""
   ]
  },
  {
   "cell_type": "code",
   "execution_count": 56,
   "metadata": {},
   "outputs": [],
   "source": [
    "def stabilize(sequence):\n",
    "    image_filenames = [x for x in os.listdir(sequence.image_path) if x.split('.')[-1] == sequence.image_ext]\n",
    "    print(image_filenames)\n",
    "    return None"
   ]
  },
  {
   "cell_type": "code",
   "execution_count": 63,
   "metadata": {},
   "outputs": [],
   "source": [
    "class Sequence(object):\n",
    "    def __init__(self, sequence_path, config_filename):\n",
    "        self.root_path = sequence_path\n",
    "        self.config_filename = config_filename\n",
    "        self.config_path = os.path.join(sequence_path,config_filename)        \n",
    "        self.name = None\n",
    "        self.length = None\n",
    "        self.frame_rate = None\n",
    "        self.height = None\n",
    "        self.width = None\n",
    "        self.image_path = None        \n",
    "        self._load_conf()\n",
    "\n",
    "    def _load_conf(self):\n",
    "        if not os.path.isfile(self.config_path):\n",
    "            raise Exception(\"Config file, %s, doesn't seem to exist.\" % self.config_path)\n",
    "        \n",
    "        config = ConfigParser()\n",
    "        config.read(self.config_path)\n",
    "        sequence_config = dict(config['Sequence'])\n",
    "        \n",
    "        self.name = sequence_config['name']\n",
    "        self.length = sequence_config['seqlength']\n",
    "        self.frame_rate = sequence_config['framerate']\n",
    "        self.height = sequence_config['imheight']\n",
    "        self.width = sequence_config['imwidth']\n",
    "        self.image_path = os.path.join(self.root_path, sequence_config['imdir'])\n",
    "        self.image_ext = sequence_config['imext']\n",
    "    \n",
    "    def __str__(self):\n",
    "        return(\"Sequence: %s\\nPath: %s\\nImage Path: %s\\nResolution: %sx%s\\nFrame Rate: %s\\nLength: %s\\nType: %s\"\n",
    "          % (\n",
    "              self.name,\n",
    "              self.root_path,              \n",
    "              self.image_path,\n",
    "              self.width,\n",
    "              self.height,\n",
    "              self.frame_rate,\n",
    "              self.length,\n",
    "              self.image_ext\n",
    "          ))\n",
    "    \n",
    "    def __repr__(self):\n",
    "        return(\"Sequence(%s, %s)\" % (\n",
    "            self.root_path,\n",
    "            self.config_filename\n",
    "        ))"
   ]
  },
  {
   "cell_type": "code",
   "execution_count": 66,
   "metadata": {},
   "outputs": [
    {
     "name": "stdout",
     "output_type": "stream",
     "text": [
      "Sequence: MOT20-01\n",
      "Path: MOT20/train/MOT20-01/\n",
      "Image Path: MOT20/train/MOT20-01/img1\n",
      "Resolution: 1920x1080\n",
      "Frame Rate: 25\n",
      "Length: 429\n",
      "Type: .jpg\n",
      "[]\n"
     ]
    }
   ],
   "source": [
    "def main(argv=None):\n",
    "    # arg parse blablabla    \n",
    "    # if args contain config path then set it otherwise use default\n",
    "    sequence_path = SEQUENCE_PATH\n",
    "    config_filename = CONFIG_FILENAME\n",
    "\n",
    "    sequence = Sequence(sequence_path, config_filename)\n",
    "    print(sequence)\n",
    "    \n",
    "    stabilize(sequence)\n",
    "\n",
    "main()"
   ]
  },
  {
   "cell_type": "code",
   "execution_count": null,
   "metadata": {},
   "outputs": [],
   "source": []
  }
 ],
 "metadata": {
  "kernelspec": {
   "display_name": "Python 3",
   "language": "python",
   "name": "python3"
  },
  "language_info": {
   "codemirror_mode": {
    "name": "ipython",
    "version": 3
   },
   "file_extension": ".py",
   "mimetype": "text/x-python",
   "name": "python",
   "nbconvert_exporter": "python",
   "pygments_lexer": "ipython3",
   "version": "3.7.7"
  }
 },
 "nbformat": 4,
 "nbformat_minor": 4
}
